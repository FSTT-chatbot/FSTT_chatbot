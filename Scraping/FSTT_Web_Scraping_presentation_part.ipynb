{
 "cells": [
  {
   "cell_type": "code",
   "execution_count": 3,
   "outputs": [],
   "source": [
    "import requests\n",
    "from bs4 import BeautifulSoup\n",
    "import time"
   ],
   "metadata": {
    "collapsed": false,
    "ExecuteTime": {
     "end_time": "2024-05-24T10:32:56.502672Z",
     "start_time": "2024-05-24T10:32:56.499649Z"
    }
   },
   "id": "5bdd8ed1c9feae1d"
  },
  {
   "cell_type": "code",
   "execution_count": 4,
   "outputs": [],
   "source": [
    "def fetch_page(url):\n",
    "    headers = {\n",
    "        'User-Agent': 'Mozilla/5.0 (Windows NT 10.0; Win64; x64) AppleWebKit/537.36 (KHTML, like Gecko) Chrome/58.0.3029.110 Safari/537.3'}\n",
    "    \n",
    "    for attempt in range(5):  # Retry up to 5 times\n",
    "        try:\n",
    "            response = requests.get(url, headers=headers, timeout=10)\n",
    "            if response.status_code == 200:\n",
    "                return BeautifulSoup(response.content, 'html.parser')\n",
    "            else:\n",
    "                print(f\"Failed to fetch the webpage. Status code: {response.status_code}\")\n",
    "                return None\n",
    "        except requests.ConnectionError as e:\n",
    "            print(f\"ConnectionError: {e}. Retrying...\")\n",
    "            time.sleep(5)  # Wait for 5 seconds before retrying\n",
    "        except requests.Timeout as e:\n",
    "            print(f\"TimeoutError: {e}. Retrying...\")\n",
    "            time.sleep(5)  # Wait for 5 seconds before retrying\n",
    "    return None"
   ],
   "metadata": {
    "collapsed": true,
    "ExecuteTime": {
     "end_time": "2024-05-24T10:32:57.163322Z",
     "start_time": "2024-05-24T10:32:57.142157Z"
    }
   },
   "id": "initial_id"
  },
  {
   "cell_type": "code",
   "execution_count": 10,
   "outputs": [],
   "source": [
    "def fetch_page(url):\n",
    "    headers = {\n",
    "        'User-Agent': 'Mozilla/5.0 (Windows NT 10.0; Win64; x64) AppleWebKit/537.36 (KHTML, like Gecko) Chrome/58.0.3029.110 Safari/537.3'}\n",
    "    \n",
    "    for attempt in range(5):  # Retry up to 5 times\n",
    "        try:\n",
    "            response = requests.get(url, headers=headers, timeout=10)\n",
    "            if response.status_code == 200:\n",
    "                return BeautifulSoup(response.content, 'html.parser')\n",
    "            else:\n",
    "                print(f\"Failed to fetch the webpage. Status code: {response.status_code}\")\n",
    "                return None\n",
    "        except requests.ConnectionError as e:\n",
    "            print(f\"ConnectionError: {e}. Retrying...\")\n",
    "            time.sleep(5)  # Wait for 5 seconds before retrying\n",
    "        except requests.Timeout as e:\n",
    "            print(f\"TimeoutError: {e}. Retrying...\")\n",
    "            time.sleep(5)  # Wait for 5 seconds before retrying\n",
    "    return None\n",
    "\n",
    "def scrape_paragraphs(url, file_path=None):\n",
    "    # Fetch and parse the page\n",
    "    soup = fetch_page(url)\n",
    "    if not soup:\n",
    "        print(f\"Failed to retrieve the page from {url}.\")\n",
    "        return\n",
    "\n",
    "    # Find the specific div containing the paragraph\n",
    "    target_div = soup.find('div', class_='elementor-text-editor elementor-clearfix')\n",
    "\n",
    "    if target_div:\n",
    "        # Extract and clean the text from the target div\n",
    "        text_content = target_div.get_text(separator='\\n').strip()\n",
    "        print(text_content)\n",
    "        \n",
    "        # Write the content to the file if file_path is provided\n",
    "        if file_path:\n",
    "            with open(file_path, 'a', encoding='utf-8') as file:\n",
    "                file.write(text_content + '\\n\\n')\n",
    "    else:\n",
    "        print(\"No matching content found.\")"
   ],
   "metadata": {
    "collapsed": false,
    "ExecuteTime": {
     "end_time": "2024-05-24T10:44:23.919428Z",
     "start_time": "2024-05-24T10:44:23.914650Z"
    }
   },
   "id": "61c064cc41d8e16f"
  },
  {
   "cell_type": "code",
   "execution_count": 11,
   "outputs": [
    {
     "name": "stdout",
     "output_type": "stream",
     "text": [
      "I- PRESENTATION DE LA FST DE TANGER & DIAGNOSIQUE\n",
      "La Faculté des Sciences et Techniques de Tanger (FSTT), relevant de l’Université Abdelmalek Essaâdi a été créée en 1995. Elle fait partie des établissements de l’enseignement supérieur à accès régulé et a pour missions la formation initiale dans les domaines scientifiques et techniques, la formation continue ainsi que la recherche et le développement dans les domaines des sciences et techniques.\n",
      " \n",
      "Formation Initiale \n",
      "La FST de Tanger offre des cursus de formation qui préparent aux diplômes suivants :\n",
      "DEUST : Diplôme d’Etudes Universitaire en Sciences et Techniques (Bac +2).\n",
      "LST : Diplôme de Licence en Sciences et Techniques (Bac +3)\n",
      "MST : Diplôme de Master en Sciences et Techniques (Bac +5)\n",
      "DI : Diplôme d’Ingénieur d’État (Bac +5)\n",
      "Doctorat en Sciences et Techniques (Bac +8)\n",
      "La FST de Tanger propose une panoplie de formation riches et diversifiées répondant aux divers besoins du monde socio-économique (12 filières LST, 13 filières MST, 4 filières Ingénieurs)\n",
      " \n",
      "Formation continue \n",
      "Les programmes de la formation continue sont destinés aux professionnels qui souhaitent acquérir des nouvelles compétences ou approfondir leurs connaissances dans leur domaine d’activité.\n",
      "Les formations proposées couvrent des programmes variés dans les domaines des sciences et de la technologie tels que :\n",
      "Les sciences de l’ingénierie de l’Informatique- Civil –Mécanique-Electrotechnique – Industrielle et autres.\n",
      " \n",
      "Recherche scientifique\n",
      "La recherche scientifique à la FST de Tanger est structurée autour de \n",
      "7\n",
      " laboratoires, \n",
      "11\n",
      " équipes de recherche, 2 centres (CDI : Centre de Développement et de l’Innovation et le CFA : Centre de Fabrication Additive) et un Observatoire Digital de l’Environnement. Les thématiques de recherches développées par ces structures concernent :\n",
      "L’agro-alimentaire, la biotechnologie, Biologie et santé\n",
      "L’Énergie et l’Efficacité Énergétique\n",
      "L’Eau et l’Environnement\n",
      "Les Matériaux et les Nanomatériaux\n",
      "Les Mathématiques et Informatique\n",
      "Autres\n",
      " \n",
      "Fablab Green Lab \n",
      " \n",
      "Le Green Lab est un FabLab a été créé pour encourager l’innovation, la créativité et l’esprit d’entreprise chez les étudiants et les membres de la communauté locale.\n",
      " \n",
      "Le Green Lab est équipé d’une variété d’outils et de technologies, tels que des imprimantes 3D, des machines de découpe laser, des fraiseuses CNC et des équipements électroniques. Ces outils permettent aux membres du laboratoire de concevoir, prototyper et fabriquer une grande variété de projets, allant de petits gadgets électroniques aux prototypes de produits commerciaux.\n",
      " \n",
      "Le laboratoire est également axé sur la durabilité et l’environnement, avec une forte emphase sur les projets qui utilisent des matériaux recyclés ou respectueux de l’environnement. Les Etudiants du Green Lab travaillent sur des projets qui abordent des problèmes environnementaux tels que la pollution de l’eau, la gestion des déchets, la durabilité des ressources naturelles et l’agriculture urbaine.\n",
      " \n",
      "Le Green Lab est ouvert aux étudiants de tous les départements de la Faculté des Sciences et Techniques de Tanger, ainsi qu’aux membres de la communauté locale qui souhaitent utiliser les installations. Il offre également des ateliers de formation sur les compétences techniques, la conception de produits et l’entrepreneuriat.\n",
      "Les clubs des Etudiants  \n",
      "Les clubs des étudiants peuvent apporter une valeur ajoutée significative à la vie universitaire. Tout d’abord, les clubs offrent une occasion aux étudiants de s’engager dans des activités qui les passionnent et de rencontrer des personnes partageant les mêmes intérêts.\n",
      "De plus, les clubs peuvent aider à renforcer les compétences de leadership et à développer des compétences professionnelles, ce qui peut être bénéfique pour les futurs parcours professionnels des étudiants.\n"
     ]
    }
   ],
   "source": [
    "# Define the URL and file path\n",
    "url = \"https://fstt.ac.ma/Portail2023/presentation/\"\n",
    "file_path = \"FSTT_DATA.txt\"\n",
    "\n",
    "# Scrape and write the content to the file\n",
    "scrape_paragraphs(url)"
   ],
   "metadata": {
    "collapsed": false,
    "ExecuteTime": {
     "end_time": "2024-05-24T10:44:24.835986Z",
     "start_time": "2024-05-24T10:44:24.333868Z"
    }
   },
   "id": "a47584ce6598c8b9"
  },
  {
   "cell_type": "code",
   "execution_count": null,
   "outputs": [],
   "source": [
    "# Scrape and write the content to the file\n",
    "scrape_paragraphs(url, file_path)"
   ],
   "metadata": {
    "collapsed": false
   },
   "id": "c98d76821008d112"
  }
 ],
 "metadata": {
  "kernelspec": {
   "display_name": "Python 3",
   "language": "python",
   "name": "python3"
  },
  "language_info": {
   "codemirror_mode": {
    "name": "ipython",
    "version": 2
   },
   "file_extension": ".py",
   "mimetype": "text/x-python",
   "name": "python",
   "nbconvert_exporter": "python",
   "pygments_lexer": "ipython2",
   "version": "2.7.6"
  }
 },
 "nbformat": 4,
 "nbformat_minor": 5
}
